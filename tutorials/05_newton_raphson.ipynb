{
 "cells": [
  {
   "cell_type": "markdown",
   "metadata": {},
   "source": [
    "## Tutorial 5: Newton-Raphson method\n",
    "Calculating equilibrium composition from given free energies."
   ]
  },
  {
   "cell_type": "code",
   "execution_count": 1,
   "metadata": {},
   "outputs": [],
   "source": [
    "import numpy as np\n",
    "import matplotlib.pyplot as plt\n",
    "import sympy as sym"
   ]
  },
  {
   "cell_type": "markdown",
   "metadata": {},
   "source": [
    "### Free energies\n",
    "$$ g_s = (c_s - 0.5)^2 + 0.5c_s - 0.1 $$\n",
    "$$ g_l = (c_l - 0.1)^2 $$"
   ]
  },
  {
   "cell_type": "code",
   "execution_count": 2,
   "metadata": {},
   "outputs": [],
   "source": [
    "c_s = sym.Symbol('c_s')\n",
    "c_l = sym.Symbol('c_l')"
   ]
  },
  {
   "cell_type": "code",
   "execution_count": 3,
   "metadata": {},
   "outputs": [
    {
     "name": "stdout",
     "output_type": "stream",
     "text": [
      "g_s =  0.5*c_s + (c_s - 0.5)**2 - 0.1\n",
      "g_l =  (c_l - 0.1)**2\n",
      "g_s =  c_s**2 - 0.5*c_s + 0.15\n",
      "g_l =  c_l**2 - 0.2*c_l + 0.01\n"
     ]
    }
   ],
   "source": [
    "g_s = (c_s - 0.5)**2 + 0.5*c_s - 0.1\n",
    "g_l = (c_l - 0.1)**2\n",
    "print(\"g_s = \", g_s)\n",
    "print(\"g_l = \", g_l)\n",
    "print(\"g_s = \", g_s.expand())\n",
    "print(\"g_l = \", g_l.expand())"
   ]
  },
  {
   "cell_type": "markdown",
   "metadata": {},
   "source": [
    "### Plot free energies"
   ]
  },
  {
   "cell_type": "code",
   "execution_count": 4,
   "metadata": {
    "scrolled": true
   },
   "outputs": [
    {
     "data": {
      "image/png": "[encoded data removed]",
      "text/plain": [
       "<Figure size 432x288 with 1 Axes>"
      ]
     },
     "metadata": {},
     "output_type": "display_data"
    }
   ],
   "source": [
    "c = np.linspace(0.01, 0.99, 100)\n",
    "# converting symbolic expression to function, just for plotting\n",
    "g_s_func = sym.lambdify(c_s, g_s)\n",
    "g_l_func = sym.lambdify(c_l, g_l)\n",
    "plt.plot(c, g_s_func(c), label='g_s')\n",
    "plt.plot(c, g_l_func(c), label='g_l')\n",
    "plt.legend()\n",
    "plt.show()"
   ]
  },
  {
   "cell_type": "markdown",
   "metadata": {},
   "source": [
    "### Common tangent construction\n",
    "To get equilibrium concentrations $ (c_s^{eq}, c_l^{eq}) $:\n",
    "1. Equate the slopes:\n",
    "$$ f_1 = \\Big(\\frac{\\partial g_s}{\\partial c}\\Big)_{c_s^{eq}} - \\Big(\\frac{\\partial g_l}{\\partial c}\\Big)_{c_l^{eq}} = 0 $$\n",
    "2. Equate the intercept:\n",
    "$$ f_2 = \\Big[g_s - c_s^{eq}\\Big(\\frac{\\partial g_s}{\\partial c}\\Big)_{c_s^{eq}}\\Big] - \\Big[g_l - \\Big(c_l^{eq}\\frac{\\partial g_l}{\\partial c}\\Big)_{c_l^{eq}}\\Big] = 0 $$"
   ]
  },
  {
   "cell_type": "code",
   "execution_count": 5,
   "metadata": {},
   "outputs": [],
   "source": [
    "df_s = sym.diff(g_s, c_s)\n",
    "df_l = sym.diff(g_l, c_l)\n",
    "int_s = g_s - c_s*df_s\n",
    "int_l = g_l - c_l*df_l\n",
    "f1 = df_s - df_l\n",
    "f2 = int_s - int_l"
   ]
  },
  {
   "cell_type": "code",
   "execution_count": 6,
   "metadata": {
    "scrolled": true
   },
   "outputs": [
    {
     "name": "stdout",
     "output_type": "stream",
     "text": [
      "f1 =  -2*c_l + 2*c_s - 0.3\n",
      "f1 =  -2*c_l + 2*c_s - 0.3\n",
      "f2 =  c_l*(2*c_l - 0.2) - c_s*(2*c_s - 0.5) + 0.5*c_s - (c_l - 0.1)**2 + (c_s - 0.5)**2 - 0.1\n",
      "f2 =  1.0*c_l**2 - 1.0*c_s**2 + 0.14\n"
     ]
    }
   ],
   "source": [
    "print(\"f1 = \", f1)\n",
    "print(\"f1 = \", f1.simplify())\n",
    "print(\"f2 = \", f2)\n",
    "print(\"f2 = \", f2.simplify())"
   ]
  },
  {
   "cell_type": "code",
   "execution_count": 7,
   "metadata": {},
   "outputs": [
    {
     "data": {
      "text/plain": [
       "2*c_l"
      ]
     },
     "execution_count": 7,
     "metadata": {},
     "output_type": "execute_result"
    }
   ],
   "source": [
    "sym.diff(f2, c_l)"
   ]
  },
  {
   "cell_type": "markdown",
   "metadata": {},
   "source": [
    "### Newton Raphson iterations\n",
    "$$ \\begin{bmatrix} x_s \\\\ x_l \\end{bmatrix}_{i+1} = \\begin{bmatrix} x_s \\\\ x_l \\end{bmatrix}_{i} -  \\begin{bmatrix} \\dfrac{\\partial f_1}{\\partial x_s} & \\dfrac{\\partial f_1}{\\partial x_l} \\\\ \\dfrac{\\partial f_2}{\\partial x_s} & \\dfrac{\\partial f_2}{\\partial x_l} \\end{bmatrix}^{-1} \\begin{bmatrix} f_1 \\\\ f_2 \\end{bmatrix} $$"
   ]
  },
  {
   "cell_type": "code",
   "execution_count": 8,
   "metadata": {},
   "outputs": [
    {
     "name": "stdout",
     "output_type": "stream",
     "text": [
      "jacobian = \n",
      " [[2 -2]\n",
      " [-2*c_s 2*c_l]]\n"
     ]
    }
   ],
   "source": [
    "total_iterations = 10\n",
    "c_guess = np.array( [0.1, 0.11] ) # (c_s, c_l)\n",
    "c = c_guess\n",
    "jacobian = np.array( [ [ sym.diff(f1, c_s), sym.diff(f1, c_l) ], [ sym.diff(f2, c_s), sym.diff(f2, c_l)] ] )\n",
    "print(\"jacobian = \\n\", jacobian)\n",
    "\n",
    "jacobian = np.array( [ [ sym.diff(f1, c_s).evalf(subs={ c_s:c[0], c_l:c[1] }), \n",
    "                            sym.diff(f1, c_l).evalf(subs={ c_s:c[0], c_l:c[1] }) ],\n",
    "                        [ sym.diff(f2, c_s).evalf(subs={ c_s:c[0], c_l:c[1] }) , \n",
    "                         sym.diff(f2, c_l).evalf(subs={ c_s:c[0], c_l:c[1] })] ] )"
   ]
  },
  {
   "cell_type": "code",
   "execution_count": 9,
   "metadata": {},
   "outputs": [
    {
     "name": "stdout",
     "output_type": "stream",
     "text": [
      "1 [-5.24500000000001 -5.39500000000001]\n",
      "2 [0.541666666666726 0.391666666666726]\n",
      "3 [0.541666666666667 0.391666666666667]\n",
      "4 [0.541666666666667 0.391666666666667]\n",
      "5 [0.541666666666667 0.391666666666667]\n",
      "6 [0.541666666666667 0.391666666666667]\n",
      "7 [0.541666666666667 0.391666666666667]\n",
      "8 [0.541666666666667 0.391666666666667]\n",
      "9 [0.541666666666667 0.391666666666667]\n",
      "10 [0.541666666666667 0.391666666666667]\n"
     ]
    }
   ],
   "source": [
    "for i in range(total_iterations):\n",
    "    jacobian = np.array( [ [ sym.diff(f1, c_s).evalf(subs={ c_s:c[0], c_l:c[1] }), \n",
    "                            sym.diff(f1, c_l).evalf(subs={ c_s:c[0], c_l:c[1] }) ],\n",
    "                        [ sym.diff(f2, c_s).evalf(subs={ c_s:c[0], c_l:c[1] }) , \n",
    "                         sym.diff(f2, c_l).evalf(subs={ c_s:c[0], c_l:c[1] })] ] )\n",
    "    jacobian = jacobian.astype(np.float64) # converting datatype to float64 format\n",
    "    inv_jacobian = np.linalg.inv(jacobian)\n",
    "    c = c - np.dot(inv_jacobian, np.array( [f1.evalf(subs={ c_s:c[0], c_l:c[1] }) , \n",
    "                                            f2.evalf(subs={ c_s:c[0], c_l:c[1] })  ] ) )\n",
    "    print(i+1, c)"
   ]
  },
  {
   "cell_type": "markdown",
   "metadata": {},
   "source": [
    "### Using built in non-linear solver fsolve"
   ]
  },
  {
   "cell_type": "code",
   "execution_count": 10,
   "metadata": {},
   "outputs": [
    {
     "name": "stdout",
     "output_type": "stream",
     "text": [
      "[0.54166667 0.39166667]\n"
     ]
    }
   ],
   "source": [
    "from scipy.optimize import fsolve\n",
    "def equations(c):\n",
    "    return ( f1.evalf(subs={ c_s:c[0], c_l:c[1] }), f2.evalf(subs={ c_s:c[0], c_l:c[1] }) )\n",
    "\n",
    "c_eqbm = fsolve(equations, c_guess )\n",
    "print(c_eqbm)"
   ]
  }
 ],
 "metadata": {
  "kernelspec": {
   "display_name": "Python 3",
   "language": "python",
   "name": "python3"
  },
  "language_info": {
   "codemirror_mode": {
    "name": "ipython",
    "version": 3
   },
   "file_extension": ".py",
   "mimetype": "text/x-python",
   "name": "python",
   "nbconvert_exporter": "python",
   "pygments_lexer": "ipython3",
   "version": "3.6.5"
  }
 },
 "nbformat": 4,
 "nbformat_minor": 2
}
